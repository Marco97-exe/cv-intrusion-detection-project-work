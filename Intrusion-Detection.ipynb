{
 "cells": [
  {
   "cell_type": "markdown",
   "metadata": {},
   "source": [
    "# Intrusion Detection Computer Vision System\n",
    "## Video Characteristics\n",
    "- 12 fps\n",
    "- ~41s\n",
    "- 320x240 pixels\n",
    "- 8 bit/pixel (256 gray levels)\n",
    "\n",
    "## Task 1 (Mandatory):\n",
    "### Graphical Output\n",
    "For each frame of the input video the system needs to show found blobs (either by coloring them on a black background or by showing the countours over the original video)\n",
    "### Text Output\n",
    "For each frame print the number of found objects, the value associated with each feature of the blob and its classification into person or other.\n",
    "\n",
    "## Task 2 (Optional)\n",
    "Develop an algorithm to distinguish between true objects and the removal of a previously present one.\n"
   ]
  },
  {
   "cell_type": "code",
   "execution_count": null,
   "metadata": {},
   "outputs": [],
   "source": []
  }
 ],
 "metadata": {
  "kernelspec": {
   "display_name": "Python 3",
   "language": "python",
   "name": "python3"
  },
  "language_info": {
   "codemirror_mode": {
    "name": "ipython",
    "version": 3
   },
   "file_extension": ".py",
   "mimetype": "text/x-python",
   "name": "python",
   "nbconvert_exporter": "python",
   "pygments_lexer": "ipython3",
   "version": "3.6.9"
  }
 },
 "nbformat": 4,
 "nbformat_minor": 4
}
